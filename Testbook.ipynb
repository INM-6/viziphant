{
 "cells": [
  {
   "cell_type": "code",
   "execution_count": null,
   "metadata": {
    "collapsed": true
   },
   "outputs": [],
   "source": [
    "%matplotlib inline\n",
    "import quantities as pq\n",
    "import numpy as np\n",
    "import sys\n",
    "import neo\n",
    "import elephant\n",
    "import imp\n",
    "from elephant.statistics import time_histogram, mean_firing_rate, cv, isi\n",
    "from elephant.spike_train_correlation import corrcoef\n",
    "from elephant.conversion import BinnedSpikeTrain\n",
    "import matplotlib.pyplot as plt"
   ]
  },
  {
   "cell_type": "code",
   "execution_count": null,
   "metadata": {},
   "outputs": [],
   "source": [
    "\n",
    "# Define path names\n",
    "DATA_PATH = '/home/robin/INM6/Projects/viziphant/'\n",
    "plotting_path = './rasterplot.py'\n",
    "plotting = imp.load_source('*', plotting_path)\n",
    "\n",
    "statistics_path = './statistical_testing.py'\n",
    "stat = imp.load_source('*', statistics_path)\n",
    "\n",
    "def load_data(path, file_name_list, N):\n",
    "    # Load NEST or SpiNNaker data using NeoHdf5IO\n",
    "    data = np.empty(len(file_name_list))\n",
    "    for i, file_name in enumerate(file_name_list):\n",
    "        # exc. and inh. as tuples, layerwise\n",
    "        data[] = neo.io.NeoHdf5IO(DATA_PATH + file_name)\n",
    "    return data"
   ]
  }
 ],
 "metadata": {
  "kernelspec": {
   "display_name": "Python 2",
   "language": "python",
   "name": "python2"
  },
  "language_info": {
   "codemirror_mode": {
    "name": "ipython",
    "version": 2.0
   },
   "file_extension": ".py",
   "mimetype": "text/x-python",
   "name": "python",
   "nbconvert_exporter": "python",
   "pygments_lexer": "ipython2",
   "version": "2.7.6"
  }
 },
 "nbformat": 4,
 "nbformat_minor": 0
}